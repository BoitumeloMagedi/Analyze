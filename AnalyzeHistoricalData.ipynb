{
  "metadata": {
    "kernelspec": {
      "name": "python",
      "display_name": "Python (Pyodide)",
      "language": "python"
    },
    "language_info": {
      "codemirror_mode": {
        "name": "python",
        "version": 3
      },
      "file_extension": ".py",
      "mimetype": "text/x-python",
      "name": "python",
      "nbconvert_exporter": "python",
      "pygments_lexer": "ipython3",
      "version": "3.8"
    }
  },
  "nbformat_minor": 4,
  "nbformat": 4,
  "cells": [
    {
      "cell_type": "code",
      "source": "!pip install yfinance",
      "metadata": {
        "trusted": true
      },
      "outputs": [],
      "execution_count": null
    },
    {
      "cell_type": "code",
      "source": "import yfinance as yf\nimport pandas as pd",
      "metadata": {
        "trusted": true
      },
      "outputs": [],
      "execution_count": null
    },
    {
      "cell_type": "code",
      "source": "# Download Tesla stock data\ntesla_data = yf.download('TSLA')",
      "metadata": {
        "trusted": true
      },
      "outputs": [],
      "execution_count": null
    },
    {
      "cell_type": "code",
      "source": "# Reset the index\ntesla_data.reset_index(inplace=True)",
      "metadata": {
        "trusted": true
      },
      "outputs": [],
      "execution_count": null
    },
    {
      "cell_type": "code",
      "source": "# Display the first five rows\ntesla_data.head()",
      "metadata": {
        "trusted": true
      },
      "outputs": [],
      "execution_count": null
    },
    {
      "cell_type": "code",
      "source": "",
      "metadata": {
        "trusted": true
      },
      "outputs": [],
      "execution_count": null
    },
    {
      "cell_type": "code",
      "source": "!pip install beautifulsoup4 requests pandas",
      "metadata": {
        "trusted": true
      },
      "outputs": [],
      "execution_count": null
    },
    {
      "cell_type": "code",
      "source": "import requests\nfrom bs4 import BeautifulSoup\nimport pandas as pd",
      "metadata": {
        "trusted": true
      },
      "outputs": [],
      "execution_count": null
    },
    {
      "cell_type": "code",
      "source": "# Fetch the webpage\nurl = 'YOUR_URL_HERE'\nresponse = requests.get(url)\nsoup = BeautifulSoup(response.text, 'html.parser')\n\n# Locate the table containing the revenue data (assuming the table is identified by an id or class)\n# You might need to adjust the following line based on the actual structure of the webpage\ntable = soup.find('table', {'id': 'revenue-table'})\n\n# Extract table headers\nheaders = []\nfor th in table.find_all('th'):\n    headers.append(th.text.strip())\n\n# Extract table rows\nrows = []\nfor tr in table.find_all('tr')[1:]:  # Skipping the header row\n    cells = tr.find_all('td')\n    row = [cell.text.strip() for cell in cells]\n    rows.append(row)\n\n# Create DataFrame\ntesla_revenue = pd.DataFrame(rows, columns=headers)",
      "metadata": {
        "trusted": true
      },
      "outputs": [],
      "execution_count": null
    },
    {
      "cell_type": "code",
      "source": "# Display the last five rows\ntesla_revenue.tail()",
      "metadata": {
        "trusted": true
      },
      "outputs": [],
      "execution_count": null
    },
    {
      "cell_type": "code",
      "source": "",
      "metadata": {
        "trusted": true
      },
      "outputs": [],
      "execution_count": null
    },
    {
      "cell_type": "code",
      "source": "!pip install yfinance pandas",
      "metadata": {
        "trusted": true
      },
      "outputs": [],
      "execution_count": null
    },
    {
      "cell_type": "code",
      "source": "import yfinance as yf\nimport pandas as pd",
      "metadata": {
        "trusted": true
      },
      "outputs": [],
      "execution_count": null
    },
    {
      "cell_type": "code",
      "source": "# Fetch GME stock data\ngme_data = yf.download('GME')",
      "metadata": {
        "trusted": true
      },
      "outputs": [],
      "execution_count": null
    },
    {
      "cell_type": "code",
      "source": "# Reset the index\ngme_data.reset_index(inplace=True)",
      "metadata": {
        "trusted": true
      },
      "outputs": [],
      "execution_count": null
    },
    {
      "cell_type": "code",
      "source": "# Display the first five rows\ngme_data.head()",
      "metadata": {
        "trusted": true
      },
      "outputs": [],
      "execution_count": null
    },
    {
      "cell_type": "code",
      "source": "",
      "metadata": {
        "trusted": true
      },
      "outputs": [],
      "execution_count": null
    },
    {
      "cell_type": "code",
      "source": "!pip install requests beautifulsoup4 pandas",
      "metadata": {
        "trusted": true
      },
      "outputs": [],
      "execution_count": null
    },
    {
      "cell_type": "code",
      "source": "import requests\nimport pandas as pd\nfrom bs4 import BeautifulSoup",
      "metadata": {
        "trusted": true
      },
      "outputs": [],
      "execution_count": null
    },
    {
      "cell_type": "code",
      "source": "# URL of the web page to scrape\nurl = \"https://www.macrotrends.net/stocks/charts/GME/gamestop/revenue\"\n\n# Send a GET request to fetch the raw HTML content\nresponse = requests.get(url)\nsoup = BeautifulSoup(response.text, 'html.parser')\n\n# Find the table with the revenue data\ntables = soup.find_all('table')\nfor table in tables:\n    if 'Revenue' in str(table):\n        revenue_table = table\n        break\n\n# Extract the data from the table\nrows = revenue_table.find_all('tr')\n\n# Initialize lists to hold the data\ndates = []\nrevenues = []\n\n# Loop through the rows to get the data\nfor row in rows[1:]:\n    cols = row.find_all('td')\n    if len(cols) > 1:\n        date = cols[0].text.strip()\n        revenue = cols[1].text.strip().replace('$', '').replace(',', '')\n        dates.append(date)\n        revenues.append(revenue)\n\n# Create a DataFrame\ngme_revenue = pd.DataFrame({\n    'Date': dates,\n    'Revenue': revenues\n})\n\n# Convert 'Revenue' to numeric\ngme_revenue['Revenue'] = pd.to_numeric(gme_revenue['Revenue'], errors='coerce')",
      "metadata": {
        "trusted": true
      },
      "outputs": [],
      "execution_count": null
    },
    {
      "cell_type": "code",
      "source": "# Display the last five rows\ngme_revenue.tail()",
      "metadata": {
        "trusted": true
      },
      "outputs": [],
      "execution_count": null
    },
    {
      "cell_type": "code",
      "source": "",
      "metadata": {
        "trusted": true
      },
      "outputs": [],
      "execution_count": null
    },
    {
      "cell_type": "code",
      "source": "!pip install yfinance matplotlib pandas",
      "metadata": {
        "trusted": true
      },
      "outputs": [],
      "execution_count": null
    },
    {
      "cell_type": "code",
      "source": "import yfinance as yf\nimport pandas as pd\nimport matplotlib.pyplot as plt",
      "metadata": {
        "trusted": true
      },
      "outputs": [],
      "execution_count": null
    },
    {
      "cell_type": "code",
      "source": "def make_graph(stock_data, stock_title):\n    plt.figure(figsize=(10, 5))\n    plt.plot(stock_data['Date'], stock_data['Close'], label='Close Price')\n    plt.xlabel('Date')\n    plt.ylabel('Close Price (USD)')\n    plt.title(stock_title)\n    plt.legend()\n    plt.grid(True)\n    plt.show()",
      "metadata": {
        "trusted": true
      },
      "outputs": [],
      "execution_count": null
    },
    {
      "cell_type": "code",
      "source": "# Fetch Tesla stock data\ntesla_data = yf.download('TSLA', start='2020-01-01', end='2023-01-01')\ntesla_data.reset_index(inplace=True)",
      "metadata": {
        "trusted": true
      },
      "outputs": [],
      "execution_count": null
    },
    {
      "cell_type": "code",
      "source": "# Plot Tesla stock data\nmake_graph(tesla_data, 'Tesla Stock Price (2020-2023)')",
      "metadata": {
        "trusted": true
      },
      "outputs": [],
      "execution_count": null
    },
    {
      "cell_type": "code",
      "source": "",
      "metadata": {
        "trusted": true
      },
      "outputs": [],
      "execution_count": null
    },
    {
      "cell_type": "code",
      "source": "import yfinance as yf\nimport pandas as pd\nimport matplotlib.pyplot as plt",
      "metadata": {
        "trusted": true
      },
      "outputs": [],
      "execution_count": null
    },
    {
      "cell_type": "code",
      "source": "def make_graph(stock_data, stock_title):\n    plt.figure(figsize=(10, 5))\n    plt.plot(stock_data['Date'], stock_data['Close'], label='Close Price')\n    plt.xlabel('Date')\n    plt.ylabel('Close Price (USD)')\n    plt.title(stock_title)\n    plt.legend()\n    plt.grid(True)\n    plt.show()",
      "metadata": {
        "trusted": true
      },
      "outputs": [],
      "execution_count": null
    },
    {
      "cell_type": "code",
      "source": "# Fetch GameStop stock data\ngme_data = yf.download('GME', start='2020-01-01', end='2023-01-01')\ngme_data.reset_index(inplace=True)",
      "metadata": {
        "trusted": true
      },
      "outputs": [],
      "execution_count": null
    },
    {
      "cell_type": "code",
      "source": "# Plot GameStop stock data\nmake_graph(gme_data, 'GameStop Stock Price (2020-2023)')",
      "metadata": {
        "trusted": true
      },
      "outputs": [],
      "execution_count": null
    },
    {
      "cell_type": "code",
      "source": "",
      "metadata": {
        "trusted": true
      },
      "outputs": [],
      "execution_count": null
    },
    {
      "cell_type": "code",
      "source": "",
      "metadata": {
        "trusted": true
      },
      "outputs": [],
      "execution_count": null
    }
  ]
}